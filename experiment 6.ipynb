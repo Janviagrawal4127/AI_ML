{
 "cells": [
  {
   "cell_type": "code",
   "execution_count": 1,
   "id": "399b1b81-8bff-4bca-be70-4902beef291c",
   "metadata": {
    "tags": []
   },
   "outputs": [],
   "source": [
    "import pandas as pd\n",
    "import seaborn as sns\n",
    "import matplotlib.pyplot as plt"
   ]
  },
  {
   "cell_type": "code",
   "execution_count": 2,
   "id": "0cb6b185-0ffe-4609-b9b9-5568b2c27d57",
   "metadata": {
    "tags": []
   },
   "outputs": [],
   "source": [
    "# Load the dataset\n",
    "dataset = pd.read_csv('sample.csv')"
   ]
  },
  {
   "cell_type": "markdown",
   "id": "3f5291fc-bad4-4207-a0f8-04685b9eeb8f",
   "metadata": {},
   "source": [
    "## MISSING VALUE"
   ]
  },
  {
   "cell_type": "code",
   "execution_count": 4,
   "id": "dc1c808e-e3c5-47a8-b5a6-2b44210de843",
   "metadata": {
    "tags": []
   },
   "outputs": [],
   "source": [
    "def handle_missing_values(data, strategy='mean'):\n",
    "    if strategy == 'mean':\n",
    "        return data.fillna(data.mean(numeric_only=True))\n",
    "    elif strategy == 'median':\n",
    "        return data.fillna(data.median(numeric_only=True))\n",
    "    elif strategy == 'mode':\n",
    "        return data.fillna(data.mode().iloc[0])\n",
    "    else:\n",
    "        raise ValueError"
   ]
  },
  {
   "cell_type": "markdown",
   "id": "04988132-dc7c-407c-9775-31bd29219457",
   "metadata": {},
   "source": [
    "## Outlier Handling Data Preprocessing"
   ]
  },
  {
   "cell_type": "code",
   "execution_count": 6,
   "id": "9df9dccb-e2ba-44b7-a497-9721d88e3a7e",
   "metadata": {
    "tags": []
   },
   "outputs": [],
   "source": [
    "def handle_outliers(data):\n",
    "    # Select numeric columns only\n",
    "    numeric_cols = data.select_dtypes(include=[np.number])\n",
    "\n",
    "    Q1 = numeric_cols.quantile(0.25)\n",
    "    Q3 = numeric_cols.quantile(0.75)\n",
    "    IQR = Q3 - Q1\n",
    "    lower_bound = Q1 - 1.5 * IQR\n",
    "    upper_bound = Q3 + 1.5 * IQR\n",
    "    \n",
    "    # Capping the outliers to the upper and lower bounds\n",
    "    numeric_cols_outliers_removed = numeric_cols.clip(lower=lower_bound, upper=upper_bound, axis=1)\n",
    "\n",
    "    # Replace the numeric columns in the original dataset\n",
    "    data[numeric_cols.columns] = numeric_cols_outliers_removed\n",
    "    \n",
    "    return data"
   ]
  },
  {
   "cell_type": "markdown",
   "id": "c2194483-a6f0-4a14-af2d-f49613da71b7",
   "metadata": {},
   "source": [
    "## Train-TEST SPLITTING\n"
   ]
  },
  {
   "cell_type": "code",
   "execution_count": 8,
   "id": "2f1fc863-ce81-4739-9d89-e84e7eee8716",
   "metadata": {
    "tags": []
   },
   "outputs": [],
   "source": [
    "import numpy as np\n",
    "def split_train_test(data, test_ratio):\n",
    "    shuffled = np.random.permutation(len(data))\n",
    "    print(shuffled)\n",
    "    test_set_size = int(len(data)*test_ratio)\n",
    "    test_indices = shuffled[:test_set_size]\n",
    "    train_indices = shuffled[test_set_size:]\n",
    "    return data.iloc[train_indices],data.iloc[test_indices]"
   ]
  },
  {
   "cell_type": "code",
   "execution_count": 9,
   "id": "e9f3296b-2206-4c41-9a79-9d11a53ec7da",
   "metadata": {
    "tags": []
   },
   "outputs": [
    {
     "name": "stdout",
     "output_type": "stream",
     "text": [
      "[375 224  90 452 323 225 433 316 163 148  54  24 407 254  20  94 414   6\n",
      " 189 293 379 184 387 363 373 385 430 109 326 303  15 402 133 383  88 360\n",
      " 408 390  53  70 345 482 324  42 160  49  64 201 415 459  87 144  36 151\n",
      " 277 292  75 129 296  68 267 176 416 494 259  17 427 232 101 121  61 294\n",
      " 127 197  77  32  81 502  46 276 187 102 420 401 406 246  71 301 426 391\n",
      " 475 229 347  37  76  22 157 348  14 493 354 333 136 362 139  97 162 307\n",
      " 182 498 341 504 331 445 199 216 454  47 202 302 194 477 409 253 118 377\n",
      "   3 380 289  84 496 266 290 355 364  43 116 446 349 132 410  25   4 168\n",
      " 434 338 183   5 177 206 270 478 271 273 417 499   1 103 336 244 149  10\n",
      " 222 455 344 268 370 143 476  45 105 312 297 114 423 115 226 419 263 398\n",
      " 145  85 462 275 381 240 195 165 332 479 368 179 188 450 399 211 468 237\n",
      " 327 111  29 310  93 357 192 453 167 351 481 285 366 367  62 372 464 282\n",
      " 180  30 159  89  98  82 473 359 234 458   8 169 413 374 248 480 361 198\n",
      " 138 443 264 437 286 447  35 329  39 305 378 262 231 394 170 255 463 228\n",
      "  69  34 207 319 442  21 134 393  63 392  58  52 153 233  38 342 456  80\n",
      " 457  67 483 288 298 322 152 404   2 315 181 265 490  91 171 112  96 308\n",
      "  57 146 439 397 337  28 317 142 106 313   7 278 117 314 291 104 444 256\n",
      " 280 120 485 300 124 137   0  72 425 346  44 441 212 235 325 334 411 431\n",
      " 328 190  55 220 191 388 272 469 501 435  95 460  78 108 421 260  79  65\n",
      " 467  40  33  60 470 343 166 503 100 227  41  26 376 243  51 335 484 432\n",
      " 141 161  19 306 429 258 200 150 250 491  66 241 155 284  50 213 125 339\n",
      " 403 418 203  31  11 147 389 135 215 249 461 252   9 123 218  56 489 126\n",
      " 261 304 321  16 119 185 352 239 436 281 279 122 128 371 156 384 230 242\n",
      " 130 488 495 320 175 448  99 412 395 386 471 487  23 449 350 217 422 223\n",
      " 164  18 208 221 492 400 497  73 236 472 474 500 214 311 154 369 505 438\n",
      " 382 318 356 186 131 247 340 405 158 283 353  83 245  86 172 210 424 269\n",
      " 274 219 178 365 295 466 196 358  27  59 396 440 238 309 251 465 209  48\n",
      " 107 174  74 451 299 330 113 173 110 205 193  12 140 486 287 428  92 257\n",
      "  13 204]\n"
     ]
    }
   ],
   "source": [
    "train_set, test_set = split_train_test(dataset, 0.2)"
   ]
  },
  {
   "cell_type": "code",
   "execution_count": 10,
   "id": "470155df-8c2c-4215-aba3-45fcb4d04c1c",
   "metadata": {
    "tags": []
   },
   "outputs": [
    {
     "name": "stdout",
     "output_type": "stream",
     "text": [
      "Row in train set:405\n",
      "Rows in test set: 101\n",
      "\n"
     ]
    }
   ],
   "source": [
    "print(f\"Row in train set:{len(train_set)}\\nRows in test set: {len(test_set)}\\n\")"
   ]
  },
  {
   "cell_type": "code",
   "execution_count": 11,
   "id": "41b32eee-f51e-4ab0-88e3-bece65c0bc10",
   "metadata": {
    "tags": []
   },
   "outputs": [],
   "source": [
    "from sklearn.model_selection import StratifiedShuffleSplit\n",
    "\n",
    "# Assuming `dataset` is a pandas DataFrame and 'CHAS' is a column in that DataFrame\n",
    "split = StratifiedShuffleSplit(n_splits=1, test_size=0.2, random_state=42)\n",
    "\n",
    "# Make sure 'CHAS' column exists in your dataset and does not have missing values\n",
    "for train_index, test_index in split.split(dataset, dataset['CHAS']):\n",
    "    strat_train_set = dataset.loc[train_index]\n",
    "    strat_test_set = dataset.loc[test_index]\n"
   ]
  },
  {
   "cell_type": "code",
   "execution_count": 12,
   "id": "a1693add-fb87-452d-b1ad-3b5f7c2c3652",
   "metadata": {
    "tags": []
   },
   "outputs": [
    {
     "data": {
      "text/plain": [
       "CHAS\n",
       "0    95\n",
       "1     7\n",
       "Name: count, dtype: int64"
      ]
     },
     "execution_count": 12,
     "metadata": {},
     "output_type": "execute_result"
    }
   ],
   "source": [
    "strat_test_set['CHAS'].value_counts()"
   ]
  },
  {
   "cell_type": "code",
   "execution_count": 13,
   "id": "765d4c22-37bd-4b5e-a347-dcf89d5790cf",
   "metadata": {
    "tags": []
   },
   "outputs": [
    {
     "data": {
      "text/plain": [
       "CHAS\n",
       "0    376\n",
       "1     28\n",
       "Name: count, dtype: int64"
      ]
     },
     "execution_count": 13,
     "metadata": {},
     "output_type": "execute_result"
    }
   ],
   "source": [
    "strat_train_set['CHAS'].value_counts()"
   ]
  },
  {
   "cell_type": "code",
   "execution_count": 14,
   "id": "3d03d41d-fa23-41ff-be12-1ec172fea616",
   "metadata": {
    "tags": []
   },
   "outputs": [
    {
     "data": {
      "text/plain": [
       "13.857142857142858"
      ]
     },
     "execution_count": 14,
     "metadata": {},
     "output_type": "execute_result"
    }
   ],
   "source": [
    "97/7"
   ]
  },
  {
   "cell_type": "code",
   "execution_count": 15,
   "id": "1d3ecfa8-47c4-4b33-bb94-795183813007",
   "metadata": {
    "tags": []
   },
   "outputs": [
    {
     "data": {
      "text/plain": [
       "13.428571428571429"
      ]
     },
     "execution_count": 15,
     "metadata": {},
     "output_type": "execute_result"
    }
   ],
   "source": [
    "376/28"
   ]
  }
 ],
 "metadata": {
  "kernelspec": {
   "display_name": "Python 3 (ipykernel)",
   "language": "python",
   "name": "python3"
  },
  "language_info": {
   "codemirror_mode": {
    "name": "ipython",
    "version": 3
   },
   "file_extension": ".py",
   "mimetype": "text/x-python",
   "name": "python",
   "nbconvert_exporter": "python",
   "pygments_lexer": "ipython3",
   "version": "3.11.7"
  }
 },
 "nbformat": 4,
 "nbformat_minor": 5
}
