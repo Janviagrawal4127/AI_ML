{
 "cells": [
  {
   "cell_type": "code",
   "execution_count": 1,
   "id": "37311c52-7735-4238-97f0-5b041057ecae",
   "metadata": {
    "tags": []
   },
   "outputs": [],
   "source": [
    "import pandas as pd "
   ]
  },
  {
   "cell_type": "code",
   "execution_count": 30,
   "id": "bd653ed3-8b6f-4b13-a6c8-17318c82b54c",
   "metadata": {
    "tags": []
   },
   "outputs": [],
   "source": [
    "# Load the dataset\n",
    "df=pd.read_csv('sample.csv')"
   ]
  },
  {
   "cell_type": "code",
   "execution_count": 32,
   "id": "151e03cf-eb80-4088-a326-7169fe4b1f41",
   "metadata": {
    "tags": []
   },
   "outputs": [
    {
     "name": "stdout",
     "output_type": "stream",
     "text": [
      "Number of rows: 74\n",
      "Number of columns: 13\n"
     ]
    }
   ],
   "source": [
    "# Number of rows and columns\n",
    "print(f\"Number of rows: {df.shape[0]}\")\n",
    "print(f\"Number of columns: {df.shape[1]}\")"
   ]
  },
  {
   "cell_type": "code",
   "execution_count": 34,
   "id": "42c5c6ec-8f8d-49f8-ba91-1103fabeed2e",
   "metadata": {
    "tags": []
   },
   "outputs": [
    {
     "name": "stdout",
     "output_type": "stream",
     "text": [
      "\n",
      "First five rows:\n",
      "                     Excel Sample Data         Unnamed: 1 Unnamed: 2  \\\n",
      "0                                  NaN                NaN        NaN   \n",
      "1  Call Center Sentiment Analysis Data                NaN        NaN   \n",
      "2                                  NaN                NaN        NaN   \n",
      "3                                   ID      Customer Name  Sentiment   \n",
      "4                         PIS-39858047  Frances Gullefant    Neutral   \n",
      "\n",
      "   Unnamed: 3      Unnamed: 4        Unnamed: 5  Unnamed: 6     Unnamed: 7  \\\n",
      "0         NaN             NaN               NaN         NaN            NaN   \n",
      "1         NaN             NaN               NaN         NaN            NaN   \n",
      "2         NaN             NaN               NaN         NaN            NaN   \n",
      "3  CSAT Score  Call Timestamp            Reason        City          State   \n",
      "4           8      01-01-2024  Billing Question  Charleston  West Virginia   \n",
      "\n",
      "  Unnamed: 8     Unnamed: 9              Unnamed: 10  Unnamed: 11  Unnamed: 12  \n",
      "0        NaN            NaN                      NaN          NaN          NaN  \n",
      "1        NaN            NaN                      NaN          NaN          NaN  \n",
      "2        NaN            NaN                      NaN          NaN          NaN  \n",
      "3    Channel  Response Time  Call Duration (Minutes)  Call Center          NaN  \n",
      "4    Chatbot     Within SLA                       14   Chicago/IL          NaN  \n"
     ]
    }
   ],
   "source": [
    "# First five rows of the dataset\n",
    "print(\"\\nFirst five rows:\")\n",
    "print(df.head(5))"
   ]
  },
  {
   "cell_type": "code",
   "execution_count": 36,
   "id": "0dee2734-1ee0-4820-80b1-6929b5ab0436",
   "metadata": {
    "tags": []
   },
   "outputs": [
    {
     "name": "stdout",
     "output_type": "stream",
     "text": [
      "\n",
      "Size of dataset: 962\n"
     ]
    }
   ],
   "source": [
    "# Size of the dataset (total number of elements)\n",
    "print(f\"\\nSize of dataset: {df.size}\")"
   ]
  },
  {
   "cell_type": "code",
   "execution_count": 38,
   "id": "ad1bc671-575c-4ef7-8975-86507c0789b6",
   "metadata": {
    "tags": []
   },
   "outputs": [
    {
     "name": "stdout",
     "output_type": "stream",
     "text": [
      "\n",
      "Missing values per column:\n",
      "Excel Sample Data     2\n",
      "Unnamed: 1            3\n",
      "Unnamed: 2            3\n",
      "Unnamed: 3            3\n",
      "Unnamed: 4            3\n",
      "Unnamed: 5            3\n",
      "Unnamed: 6            3\n",
      "Unnamed: 7            3\n",
      "Unnamed: 8            3\n",
      "Unnamed: 9            3\n",
      "Unnamed: 10           3\n",
      "Unnamed: 11           3\n",
      "Unnamed: 12          74\n",
      "dtype: int64\n"
     ]
    }
   ],
   "source": [
    "# Number of missing values in each column\n",
    "print(\"\\nMissing values per column:\")\n",
    "print(df.isnull().sum())"
   ]
  },
  {
   "cell_type": "code",
   "execution_count": 40,
   "id": "aec7a370-f2d5-42a1-9bff-5c206ca2d2fa",
   "metadata": {
    "tags": []
   },
   "outputs": [
    {
     "name": "stdout",
     "output_type": "stream",
     "text": [
      "\n",
      "Sum of numerical columns:\n",
      "Unnamed: 12    0.0\n",
      "dtype: float64\n"
     ]
    }
   ],
   "source": [
    "# Sum of numerical columns\n",
    "print(\"\\nSum of numerical columns:\")\n",
    "print(df.select_dtypes(include='number').sum())"
   ]
  },
  {
   "cell_type": "code",
   "execution_count": 42,
   "id": "4b6717af-6684-4496-9270-590b2c1863eb",
   "metadata": {
    "tags": []
   },
   "outputs": [
    {
     "name": "stdout",
     "output_type": "stream",
     "text": [
      "\n",
      "Average of numerical columns:\n",
      "Unnamed: 12   NaN\n",
      "dtype: float64\n"
     ]
    }
   ],
   "source": [
    "# Average of numerical columns\n",
    "print(\"\\nAverage of numerical columns:\")\n",
    "print(df.select_dtypes(include='number').mean())"
   ]
  },
  {
   "cell_type": "code",
   "execution_count": 44,
   "id": "85135de9-c456-4d51-9558-2d7d27808ca5",
   "metadata": {
    "tags": []
   },
   "outputs": [
    {
     "name": "stdout",
     "output_type": "stream",
     "text": [
      "\n",
      "Minimum values in numerical columns:\n",
      "Unnamed: 12   NaN\n",
      "dtype: float64\n"
     ]
    }
   ],
   "source": [
    "# Minimum values in numerical columns\n",
    "print(\"\\nMinimum values in numerical columns:\")\n",
    "print(df.select_dtypes(include='number').min())"
   ]
  },
  {
   "cell_type": "code",
   "execution_count": 46,
   "id": "48c79f56-b453-4827-8014-8f25f0acfce3",
   "metadata": {
    "tags": []
   },
   "outputs": [
    {
     "name": "stdout",
     "output_type": "stream",
     "text": [
      "\n",
      "Maximum values in numerical columns:\n",
      "Unnamed: 12   NaN\n",
      "dtype: float64\n"
     ]
    }
   ],
   "source": [
    "# Maximum values in numerical columns\n",
    "print(\"\\nMaximum values in numerical columns:\")\n",
    "print(df.select_dtypes(include='number').max())"
   ]
  },
  {
   "cell_type": "code",
   "execution_count": 50,
   "id": "8ccef0bf-8c3a-4dd2-adb8-801035769c3f",
   "metadata": {
    "tags": []
   },
   "outputs": [],
   "source": [
    "# Export the modified dataset\n",
    "df.to_csv('output_file.csv', index=False)"
   ]
  },
  {
   "cell_type": "code",
   "execution_count": null,
   "id": "0739f09d-2655-46c8-bdfe-c0fe47ce17e8",
   "metadata": {},
   "outputs": [],
   "source": []
  }
 ],
 "metadata": {
  "kernelspec": {
   "display_name": "Python 3 (ipykernel)",
   "language": "python",
   "name": "python3"
  },
  "language_info": {
   "codemirror_mode": {
    "name": "ipython",
    "version": 3
   },
   "file_extension": ".py",
   "mimetype": "text/x-python",
   "name": "python",
   "nbconvert_exporter": "python",
   "pygments_lexer": "ipython3",
   "version": "3.11.7"
  }
 },
 "nbformat": 4,
 "nbformat_minor": 5
}
