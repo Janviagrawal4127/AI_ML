{
 "cells": [
  {
   "cell_type": "code",
   "execution_count": 6,
   "id": "37311c52-7735-4238-97f0-5b041057ecae",
   "metadata": {
    "tags": []
   },
   "outputs": [],
   "source": [
    "import pandas as pd "
   ]
  },
  {
   "cell_type": "code",
   "execution_count": 53,
   "id": "ad9e0aff-bab8-4326-82c4-2de0de92c9fe",
   "metadata": {
    "tags": []
   },
   "outputs": [
    {
     "data": {
      "text/html": [
       "<div>\n",
       "<style scoped>\n",
       "    .dataframe tbody tr th:only-of-type {\n",
       "        vertical-align: middle;\n",
       "    }\n",
       "\n",
       "    .dataframe tbody tr th {\n",
       "        vertical-align: top;\n",
       "    }\n",
       "\n",
       "    .dataframe thead th {\n",
       "        text-align: right;\n",
       "    }\n",
       "</style>\n",
       "<table border=\"1\" class=\"dataframe\">\n",
       "  <thead>\n",
       "    <tr style=\"text-align: right;\">\n",
       "      <th></th>\n",
       "      <th>CRIM</th>\n",
       "      <th>ZN</th>\n",
       "      <th>INDUS</th>\n",
       "      <th>CHAS</th>\n",
       "      <th>NOX</th>\n",
       "      <th>RM</th>\n",
       "      <th>AGE</th>\n",
       "      <th>DIS</th>\n",
       "      <th>RAD</th>\n",
       "      <th>TAX</th>\n",
       "      <th>PTRATIO</th>\n",
       "      <th>B</th>\n",
       "      <th>LSTAT</th>\n",
       "      <th>MEDV</th>\n",
       "    </tr>\n",
       "  </thead>\n",
       "  <tbody>\n",
       "    <tr>\n",
       "      <th>0</th>\n",
       "      <td>0.00632</td>\n",
       "      <td>18.0</td>\n",
       "      <td>2.31</td>\n",
       "      <td>0</td>\n",
       "      <td>0.538</td>\n",
       "      <td>6.575</td>\n",
       "      <td>65.2</td>\n",
       "      <td>4.0900</td>\n",
       "      <td>1</td>\n",
       "      <td>296</td>\n",
       "      <td>15.3</td>\n",
       "      <td>396.90</td>\n",
       "      <td>4.98</td>\n",
       "      <td>24.0</td>\n",
       "    </tr>\n",
       "    <tr>\n",
       "      <th>1</th>\n",
       "      <td>0.02731</td>\n",
       "      <td>0.0</td>\n",
       "      <td>7.07</td>\n",
       "      <td>0</td>\n",
       "      <td>0.469</td>\n",
       "      <td>6.421</td>\n",
       "      <td>78.9</td>\n",
       "      <td>4.9671</td>\n",
       "      <td>2</td>\n",
       "      <td>242</td>\n",
       "      <td>17.8</td>\n",
       "      <td>396.90</td>\n",
       "      <td>9.14</td>\n",
       "      <td>21.6</td>\n",
       "    </tr>\n",
       "    <tr>\n",
       "      <th>2</th>\n",
       "      <td>0.02729</td>\n",
       "      <td>0.0</td>\n",
       "      <td>7.07</td>\n",
       "      <td>0</td>\n",
       "      <td>0.469</td>\n",
       "      <td>7.185</td>\n",
       "      <td>61.1</td>\n",
       "      <td>4.9671</td>\n",
       "      <td>2</td>\n",
       "      <td>242</td>\n",
       "      <td>17.8</td>\n",
       "      <td>392.83</td>\n",
       "      <td>4.03</td>\n",
       "      <td>34.7</td>\n",
       "    </tr>\n",
       "    <tr>\n",
       "      <th>3</th>\n",
       "      <td>0.03237</td>\n",
       "      <td>0.0</td>\n",
       "      <td>2.18</td>\n",
       "      <td>0</td>\n",
       "      <td>0.458</td>\n",
       "      <td>6.998</td>\n",
       "      <td>45.8</td>\n",
       "      <td>6.0622</td>\n",
       "      <td>3</td>\n",
       "      <td>222</td>\n",
       "      <td>18.7</td>\n",
       "      <td>394.63</td>\n",
       "      <td>2.94</td>\n",
       "      <td>33.4</td>\n",
       "    </tr>\n",
       "    <tr>\n",
       "      <th>4</th>\n",
       "      <td>0.06905</td>\n",
       "      <td>0.0</td>\n",
       "      <td>2.18</td>\n",
       "      <td>0</td>\n",
       "      <td>0.458</td>\n",
       "      <td>7.147</td>\n",
       "      <td>54.2</td>\n",
       "      <td>6.0622</td>\n",
       "      <td>3</td>\n",
       "      <td>222</td>\n",
       "      <td>18.7</td>\n",
       "      <td>396.90</td>\n",
       "      <td>5.33</td>\n",
       "      <td>36.2</td>\n",
       "    </tr>\n",
       "  </tbody>\n",
       "</table>\n",
       "</div>"
      ],
      "text/plain": [
       "      CRIM    ZN  INDUS  CHAS    NOX     RM   AGE     DIS  RAD  TAX  PTRATIO  \\\n",
       "0  0.00632  18.0   2.31     0  0.538  6.575  65.2  4.0900    1  296     15.3   \n",
       "1  0.02731   0.0   7.07     0  0.469  6.421  78.9  4.9671    2  242     17.8   \n",
       "2  0.02729   0.0   7.07     0  0.469  7.185  61.1  4.9671    2  242     17.8   \n",
       "3  0.03237   0.0   2.18     0  0.458  6.998  45.8  6.0622    3  222     18.7   \n",
       "4  0.06905   0.0   2.18     0  0.458  7.147  54.2  6.0622    3  222     18.7   \n",
       "\n",
       "        B  LSTAT  MEDV  \n",
       "0  396.90   4.98  24.0  \n",
       "1  396.90   9.14  21.6  \n",
       "2  392.83   4.03  34.7  \n",
       "3  394.63   2.94  33.4  \n",
       "4  396.90   5.33  36.2  "
      ]
     },
     "execution_count": 53,
     "metadata": {},
     "output_type": "execute_result"
    }
   ],
   "source": [
    "df.head()"
   ]
  },
  {
   "cell_type": "code",
   "execution_count": 33,
   "id": "bd653ed3-8b6f-4b13-a6c8-17318c82b54c",
   "metadata": {
    "tags": []
   },
   "outputs": [],
   "source": [
    "# Load the dataset\n",
    "df=pd.read_csv('sample.csv')"
   ]
  },
  {
   "cell_type": "code",
   "execution_count": 35,
   "id": "151e03cf-eb80-4088-a326-7169fe4b1f41",
   "metadata": {
    "tags": []
   },
   "outputs": [
    {
     "name": "stdout",
     "output_type": "stream",
     "text": [
      "Number of rows: 506\n",
      "Number of columns: 14\n"
     ]
    }
   ],
   "source": [
    "# Number of rows and columns\n",
    "print(f\"Number of rows: {df.shape[0]}\")\n",
    "print(f\"Number of columns: {df.shape[1]}\")"
   ]
  },
  {
   "cell_type": "code",
   "execution_count": 37,
   "id": "42c5c6ec-8f8d-49f8-ba91-1103fabeed2e",
   "metadata": {
    "tags": []
   },
   "outputs": [
    {
     "name": "stdout",
     "output_type": "stream",
     "text": [
      "\n",
      "First five rows:\n",
      "      CRIM    ZN  INDUS  CHAS    NOX     RM   AGE     DIS  RAD  TAX  PTRATIO  \\\n",
      "0  0.00632  18.0   2.31     0  0.538  6.575  65.2  4.0900    1  296     15.3   \n",
      "1  0.02731   0.0   7.07     0  0.469  6.421  78.9  4.9671    2  242     17.8   \n",
      "2  0.02729   0.0   7.07     0  0.469  7.185  61.1  4.9671    2  242     17.8   \n",
      "3  0.03237   0.0   2.18     0  0.458  6.998  45.8  6.0622    3  222     18.7   \n",
      "4  0.06905   0.0   2.18     0  0.458  7.147  54.2  6.0622    3  222     18.7   \n",
      "\n",
      "        B  LSTAT  MEDV  \n",
      "0  396.90   4.98  24.0  \n",
      "1  396.90   9.14  21.6  \n",
      "2  392.83   4.03  34.7  \n",
      "3  394.63   2.94  33.4  \n",
      "4  396.90   5.33  36.2  \n"
     ]
    }
   ],
   "source": [
    "# First five rows of the dataset\n",
    "print(\"\\nFirst five rows:\")\n",
    "print(df.head(5))"
   ]
  },
  {
   "cell_type": "code",
   "execution_count": 39,
   "id": "0dee2734-1ee0-4820-80b1-6929b5ab0436",
   "metadata": {
    "tags": []
   },
   "outputs": [
    {
     "name": "stdout",
     "output_type": "stream",
     "text": [
      "\n",
      "Size of dataset: 7084\n"
     ]
    }
   ],
   "source": [
    "# Size of the dataset (total number of elements)\n",
    "print(f\"\\nSize of dataset: {df.size}\")"
   ]
  },
  {
   "cell_type": "code",
   "execution_count": 41,
   "id": "ad1bc671-575c-4ef7-8975-86507c0789b6",
   "metadata": {
    "tags": []
   },
   "outputs": [
    {
     "name": "stdout",
     "output_type": "stream",
     "text": [
      "\n",
      "Missing values per column:\n",
      "CRIM       0\n",
      "ZN         0\n",
      "INDUS      0\n",
      "CHAS       0\n",
      "NOX        0\n",
      "RM         0\n",
      "AGE        0\n",
      "DIS        0\n",
      "RAD        0\n",
      "TAX        0\n",
      "PTRATIO    0\n",
      "B          0\n",
      "LSTAT      0\n",
      "MEDV       0\n",
      "dtype: int64\n"
     ]
    }
   ],
   "source": [
    "# Number of missing values in each column\n",
    "print(\"\\nMissing values per column:\")\n",
    "print(df.isnull().sum())"
   ]
  },
  {
   "cell_type": "code",
   "execution_count": 43,
   "id": "aec7a370-f2d5-42a1-9bff-5c206ca2d2fa",
   "metadata": {
    "tags": []
   },
   "outputs": [
    {
     "name": "stdout",
     "output_type": "stream",
     "text": [
      "\n",
      "Sum of numerical columns:\n",
      "CRIM         1828.44292\n",
      "ZN           5750.00000\n",
      "INDUS        5635.21000\n",
      "CHAS           35.00000\n",
      "NOX           280.67570\n",
      "RM           3180.02500\n",
      "AGE         34698.90000\n",
      "DIS          1920.29160\n",
      "RAD          4832.00000\n",
      "TAX        206568.00000\n",
      "PTRATIO      9338.50000\n",
      "B          180477.06000\n",
      "LSTAT        6402.45000\n",
      "MEDV        11401.60000\n",
      "dtype: float64\n"
     ]
    }
   ],
   "source": [
    "# Sum of numerical columns\n",
    "print(\"\\nSum of numerical columns:\")\n",
    "print(df.select_dtypes(include='number').sum())"
   ]
  },
  {
   "cell_type": "code",
   "execution_count": 45,
   "id": "4b6717af-6684-4496-9270-590b2c1863eb",
   "metadata": {
    "tags": []
   },
   "outputs": [
    {
     "name": "stdout",
     "output_type": "stream",
     "text": [
      "\n",
      "Average of numerical columns:\n",
      "CRIM         3.613524\n",
      "ZN          11.363636\n",
      "INDUS       11.136779\n",
      "CHAS         0.069170\n",
      "NOX          0.554695\n",
      "RM           6.284634\n",
      "AGE         68.574901\n",
      "DIS          3.795043\n",
      "RAD          9.549407\n",
      "TAX        408.237154\n",
      "PTRATIO     18.455534\n",
      "B          356.674032\n",
      "LSTAT       12.653063\n",
      "MEDV        22.532806\n",
      "dtype: float64\n"
     ]
    }
   ],
   "source": [
    "# Average of numerical columns\n",
    "print(\"\\nAverage of numerical columns:\")\n",
    "print(df.select_dtypes(include='number').mean())"
   ]
  },
  {
   "cell_type": "code",
   "execution_count": 47,
   "id": "85135de9-c456-4d51-9558-2d7d27808ca5",
   "metadata": {
    "tags": []
   },
   "outputs": [
    {
     "name": "stdout",
     "output_type": "stream",
     "text": [
      "\n",
      "Minimum values in numerical columns:\n",
      "CRIM         0.00632\n",
      "ZN           0.00000\n",
      "INDUS        0.46000\n",
      "CHAS         0.00000\n",
      "NOX          0.38500\n",
      "RM           3.56100\n",
      "AGE          2.90000\n",
      "DIS          1.12960\n",
      "RAD          1.00000\n",
      "TAX        187.00000\n",
      "PTRATIO     12.60000\n",
      "B            0.32000\n",
      "LSTAT        1.73000\n",
      "MEDV         5.00000\n",
      "dtype: float64\n"
     ]
    }
   ],
   "source": [
    "# Minimum values in numerical columns\n",
    "print(\"\\nMinimum values in numerical columns:\")\n",
    "print(df.select_dtypes(include='number').min())"
   ]
  },
  {
   "cell_type": "code",
   "execution_count": 49,
   "id": "48c79f56-b453-4827-8014-8f25f0acfce3",
   "metadata": {
    "tags": []
   },
   "outputs": [
    {
     "name": "stdout",
     "output_type": "stream",
     "text": [
      "\n",
      "Maximum values in numerical columns:\n",
      "CRIM        88.9762\n",
      "ZN         100.0000\n",
      "INDUS       27.7400\n",
      "CHAS         1.0000\n",
      "NOX          0.8710\n",
      "RM           8.7800\n",
      "AGE        100.0000\n",
      "DIS         12.1265\n",
      "RAD         24.0000\n",
      "TAX        711.0000\n",
      "PTRATIO     22.0000\n",
      "B          396.9000\n",
      "LSTAT       37.9700\n",
      "MEDV        50.0000\n",
      "dtype: float64\n"
     ]
    }
   ],
   "source": [
    "# Maximum values in numerical columns\n",
    "print(\"\\nMaximum values in numerical columns:\")\n",
    "print(df.select_dtypes(include='number').max())"
   ]
  },
  {
   "cell_type": "code",
   "execution_count": 51,
   "id": "8ccef0bf-8c3a-4dd2-adb8-801035769c3f",
   "metadata": {
    "tags": []
   },
   "outputs": [],
   "source": [
    "# Export the modified dataset\n",
    "df.to_csv('output_file.csv', index=False)"
   ]
  },
  {
   "cell_type": "code",
   "execution_count": null,
   "id": "0739f09d-2655-46c8-bdfe-c0fe47ce17e8",
   "metadata": {},
   "outputs": [],
   "source": []
  }
 ],
 "metadata": {
  "kernelspec": {
   "display_name": "Python 3 (ipykernel)",
   "language": "python",
   "name": "python3"
  },
  "language_info": {
   "codemirror_mode": {
    "name": "ipython",
    "version": 3
   },
   "file_extension": ".py",
   "mimetype": "text/x-python",
   "name": "python",
   "nbconvert_exporter": "python",
   "pygments_lexer": "ipython3",
   "version": "3.11.7"
  }
 },
 "nbformat": 4,
 "nbformat_minor": 5
}
